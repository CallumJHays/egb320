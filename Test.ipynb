{
 "cells": [
  {
   "cell_type": "code",
   "execution_count": 1,
   "metadata": {
    "scrolled": true
   },
   "outputs": [
    {
     "name": "stderr",
     "output_type": "stream",
     "text": [
      "/home/ubuntu/miniconda3/lib/python3.6/importlib/_bootstrap.py:219: RuntimeWarning: numpy.dtype size changed, may indicate binary incompatibility. Expected 96, got 88\n",
      "  return f(*args, **kwds)\n"
     ]
    }
   ],
   "source": [
    "import cv2\n",
    "import numpy as np\n",
    "import bqplot as bq\n",
    "import ipywidgets as ipy\n",
    "import traitlets\n",
    "from IPython.display import display"
   ]
  },
  {
   "cell_type": "code",
   "execution_count": 2,
   "metadata": {},
   "outputs": [],
   "source": [
    "img = cv2.imread('ball_obstacle_goal_low.jpg')\n",
    "height, width, _ = img.shape\n",
    "\n",
    "MAX_WIDTH = 400\n",
    "MAX_HEIGHT = 400\n",
    "\n",
    "ratio = min(MAX_WIDTH / width, MAX_HEIGHT / height)\n",
    "ipy_img = ipy.Image(value=cv2.imencode('.jpg', img)[1].tostring(), format='jpg')"
   ]
  },
  {
   "cell_type": "code",
   "execution_count": 3,
   "metadata": {},
   "outputs": [],
   "source": [
    "scales = {'x': bq.LinearScale(), 'y': bq.LinearScale()}\n",
    "\n",
    "# Define the bqplot Image mark\n",
    "bq_img = bq.Image(image=ipy_img, scales=scales)"
   ]
  },
  {
   "cell_type": "code",
   "execution_count": 13,
   "metadata": {
    "scrolled": false
   },
   "outputs": [
    {
     "name": "stdout",
     "output_type": "stream",
     "text": [
      "(3, 781) [250 254 249] [253 255 255]\n"
     ]
    }
   ],
   "source": [
    "intercept_line = bq.Lines(scales=scales, x=[0.1, 0.2], y=[0.4, 0.5])\n",
    "line_draw = bq.interacts.BrushSelector(x_scale=scales['x'], y_scale=scales['y'], color='blue')\n",
    "\n",
    "pixels_graph_mark = bq.Lines(scales={'x': bq.LinearScale(), 'y': bq.LinearScale()}, colors=['green', 'red', 'blue'])\n",
    "\n",
    "def update_pixels_graph_mark():\n",
    "    ys = []\n",
    "    \n",
    "    [init_x, final_x] = (intercept_line.x * MAX_WIDTH).astype(int)\n",
    "    [init_y, final_y] = (intercept_line.y * MAX_HEIGHT).astype(int)\n",
    "    y_step = int((final_y - init_y) / (final_x - init_x))\n",
    "    curr_y = init_y\n",
    "    \n",
    "    for x in range(init_x, final_x):\n",
    "        for y in range(curr_y, max(curr_y + y_step, final_y - 1)):\n",
    "            ys.append(img[x, y])\n",
    "            print(x, y)\n",
    "            \n",
    "        curr_y = curr_y + y_step\n",
    "    \n",
    "    pixels_graph_mark.y = np.array(ys).T\n",
    "    pixels_graph_mark.x = np.repeat(np.arange(0, len(ys)).reshape((1, -1)), repeats=3, axis=0)\n",
    "    \n",
    "    print(pixels_graph_mark.y.shape, pixels_graph_mark.y.min(1), pixels_graph_mark.y.max(1))\n",
    "\n",
    "update_pixels_graph_mark()\n",
    "\n",
    "diagonal = False\n",
    "\n",
    "def line_draw_change(change):\n",
    "    global diagonal\n",
    "    \n",
    "    if change['name'] == 'selected_x':\n",
    "        intercept_line.x = change['new']\n",
    "    elif change['name'] == 'selected_y':\n",
    "        if diagonal:\n",
    "            intercept_line.y = list(reversed(change['new']))\n",
    "        else:\n",
    "            intercept_line.y = change['new']\n",
    "        \n",
    "\n",
    "line_draw.observe(line_draw_change, ['selected_x', 'selected_y'])\n",
    "\n",
    "switch_linesides_button = ipy.Button(\n",
    "    value=False,\n",
    "    tooltip=\"switch diagonals\",\n",
    "    icon=\"fa-undo\"\n",
    ")\n",
    "\n",
    "def switch_linesides(_change):\n",
    "    global diagonal\n",
    "    diagonal = not diagonal\n",
    "    intercept_line.y = list(reversed(intercept_line.y))\n",
    "\n",
    "switch_linesides_button.on_click(switch_linesides)\n",
    "\n",
    "image_pane = bq.Figure(title='Image', marks=[bq_img, intercept_line], padding_x=0, padding_y=0)\n",
    "image_pane.layout.width = str(int(width * ratio) + 120) + 'px'\n",
    "image_pane.layout.height = str(int(height * ratio) + 120) + 'px'\n",
    "\n",
    "panzoom = bq.interacts.PanZoom(\n",
    "    scales={'x': [scales['x']], 'y': [scales['y']]},\n",
    "    allow_pan=True,\n",
    "    allow_zoom=True\n",
    ")\n",
    "\n",
    "panzoom_button = ipy.ToggleButton(\n",
    "    value=False,\n",
    "    tooltip='Toggle Pan / Zoom',\n",
    "    icon='arrows'\n",
    ")\n",
    "\n",
    "toggle_buttons = [panzoom_button]\n",
    "\n",
    "def untoggle_all_except(this_button):\n",
    "    for toggle_button in toggle_buttons:\n",
    "        if this_button is not toggle_button:\n",
    "            toggle_button.value = False\n",
    "\n",
    "def toggle_panzoom(change):\n",
    "    untoggle_all_except(panzoom_button)\n",
    "    if change['new']:\n",
    "        image_pane.interaction = panzoom\n",
    "    else:\n",
    "        image_pane.interaction = None\n",
    "        \n",
    "panzoom_button.observe(toggle_panzoom, 'value')\n",
    "\n",
    "reset_zoom_button = ipy.Button(\n",
    "    disabled=False,\n",
    "    tooltip='Reset zoom',\n",
    "    icon='refresh'\n",
    ")\n",
    "\n",
    "def reset_zoom(_change):\n",
    "    panzoom.scales['x'][0].min = None\n",
    "    panzoom.scales['x'][0].max = None\n",
    "    panzoom.scales['y'][0].min = None\n",
    "    panzoom.scales['y'][0].max = None\n",
    "\n",
    "edit_line_button = ipy.ToggleButton(\n",
    "    value=False,\n",
    "    tooltip='Edit pixel interceptor',\n",
    "    icon='edit'\n",
    ")\n",
    "\n",
    "toggle_buttons.append(edit_line_button)\n",
    "\n",
    "def toggle_edit_line(change):\n",
    "    untoggle_all_except(edit_line_button)\n",
    "    if change['new']:\n",
    "        image_pane.interaction = line_draw\n",
    "    else:\n",
    "        image_pane.interaction = None\n",
    "        update_pixels_graph_mark()\n",
    "        \n",
    "edit_line_button.observe(toggle_edit_line, 'value')\n",
    "        \n",
    "custom_toolbar = ipy.HBox([\n",
    "    panzoom_button,\n",
    "    reset_zoom_button,\n",
    "    edit_line_button,\n",
    "    switch_linesides_button\n",
    "])\n",
    "    \n",
    "reset_zoom_button.on_click(reset_zoom)\n",
    "\n",
    "image_inspector = ipy.VBox([image_pane, custom_toolbar], align_self='stretch')"
   ]
  },
  {
   "cell_type": "code",
   "execution_count": 12,
   "metadata": {
    "scrolled": false
   },
   "outputs": [
    {
     "data": {
      "application/vnd.jupyter.widget-view+json": {
       "model_id": "4b4793bdaa87420eb72ae2adc9e7d1ed",
       "version_major": 2,
       "version_minor": 0
      },
      "text/plain": [
       "HBox(children=(VBox(children=(Figure(fig_margin={'top': 60, 'bottom': 60, 'left': 60, 'right': 60}, layout=Lay…"
      ]
     },
     "metadata": {},
     "output_type": "display_data"
    }
   ],
   "source": [
    "pixels_graph_fig = bq.Figure(title='Line 1 (Blue)', marks=[pixels_graph_mark])\n",
    "\n",
    "the_lot = ipy.HBox([image_inspector, pixels_graph_fig])\n",
    "\n",
    "display(the_lot)"
   ]
  }
 ],
 "metadata": {
  "kernelspec": {
   "display_name": "Python 3",
   "language": "python",
   "name": "python3"
  },
  "language_info": {
   "codemirror_mode": {
    "name": "ipython",
    "version": 3
   },
   "file_extension": ".py",
   "mimetype": "text/x-python",
   "name": "python",
   "nbconvert_exporter": "python",
   "pygments_lexer": "ipython3",
   "version": "3.6.6"
  }
 },
 "nbformat": 4,
 "nbformat_minor": 2
}
