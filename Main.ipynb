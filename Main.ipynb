{
 "cells": [
  {
   "cell_type": "code",
   "execution_count": 1,
   "metadata": {},
   "outputs": [
    {
     "name": "stdout",
     "output_type": "stream",
     "text": [
      "Loaded detection_models/ball_model.threshblob.pkl\n",
      "Loaded detection_models/obstacle_model.threshblob.pkl\n",
      "Loaded detection_models/yellow_goal_model.threshblob.pkl\n",
      "Loaded detection_models/blue_goal_model.threshblob.pkl\n",
      "Loaded detection_models/free_ground_space_model.threshblob.pkl\n"
     ]
    }
   ],
   "source": [
    "from VisionSystem import VisionSystem, VisualObject\n",
    "from VisionSystem.DetectionModel import ThreshBlob\n",
    "\n",
    "def load_or_create_new_threshblob(path):\n",
    "    try:\n",
    "        model = ThreshBlob.load(path)\n",
    "        print(\"Loaded \" + path)\n",
    "    except Exception:\n",
    "        model = ThreshBlob()\n",
    "    finally:\n",
    "        return model\n",
    "\n",
    "model_names = [\"ball\", \"obstacle\", \"yellow_goal\", \"blue_goal\", \"free_ground_space\"]\n",
    "detection_models = {\n",
    "    model_name: load_or_create_new_threshblob(\"detection_models/\" + model_name + \"_model.threshblob.pkl\") \\\n",
    "                    for model_name in model_names\n",
    "}\n",
    "\n",
    "objects_to_track = {\n",
    "    name: VisualObject(real_size=(0.043, 0.043, 0.043), detection_model=model, result_limit=1)\n",
    "            for name, model in detection_models.items()\n",
    "}\n",
    "\n",
    "vision_system = VisionSystem(objects_to_track)"
   ]
  },
  {
   "cell_type": "code",
   "execution_count": 2,
   "metadata": {
    "scrolled": false
   },
   "outputs": [
    {
     "data": {
      "application/vnd.jupyter.widget-view+json": {
       "model_id": "dfb4758ffbfb4d52a162e12f755a51fe",
       "version_major": 2,
       "version_minor": 0
      },
      "text/plain": [
       "DisplayPane(children=(HBox(children=(VBox(children=(Figure(fig_margin={'top': 60, 'bottom': 60, 'left': 60, 'r…"
      ]
     },
     "metadata": {},
     "output_type": "display_data"
    }
   ],
   "source": [
    "from DisplayPane import DisplayPane\n",
    "from DisplayPane.Interactor import VisionSystemTuner\n",
    "from VisionSystem import VideoStream\n",
    "\n",
    "display = DisplayPane(\n",
    "    video_stream=VideoStream('./pi/data/init_test_6pm.mp4', downsample_scale=20),\n",
    "    vision_system=vision_system,\n",
    "    interactors=[VisionSystemTuner(vision_system)]\n",
    ")\n",
    "display"
   ]
  },
  {
   "cell_type": "code",
   "execution_count": 3,
   "metadata": {},
   "outputs": [],
   "source": [
    "# RUN THIS CELL TO SAVE THE MODELs tinkered with\n",
    "for model_name in model_names:\n",
    "    detection_models[model_name].save(\"detection_models/\" + model_name + \"_model.threshblob.pkl\")"
   ]
  }
 ],
 "metadata": {
  "kernelspec": {
   "display_name": "Python 3",
   "language": "python",
   "name": "python3"
  },
  "language_info": {
   "codemirror_mode": {
    "name": "ipython",
    "version": 3
   },
   "file_extension": ".py",
   "mimetype": "text/x-python",
   "name": "python",
   "nbconvert_exporter": "python",
   "pygments_lexer": "ipython3",
   "version": "3.6.5"
  }
 },
 "nbformat": 4,
 "nbformat_minor": 2
}
